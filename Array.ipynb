{
 "cells": [
  {
   "cell_type": "markdown",
   "id": "6a2fcb5d",
   "metadata": {},
   "source": [
    "# Reverse an array without using extra space"
   ]
  },
  {
   "cell_type": "code",
   "execution_count": 13,
   "id": "eeb5814b",
   "metadata": {},
   "outputs": [
    {
     "name": "stdout",
     "output_type": "stream",
     "text": [
      "[6, 5, 3, 9, 2]\n"
     ]
    }
   ],
   "source": [
    "list_1=[2,9,3,5,6]\n",
    "def reverse_list(list_1):\n",
    "    start=0\n",
    "    end=len(list_1)-1\n",
    "    while start<end:\n",
    "        list_1[start],list_1[end]= list_1[end],list_1[start]\n",
    "        start+=1\n",
    "        end-=1\n",
    "    print(list_1)\n",
    "\n",
    "reverse_list(list_1)      "
   ]
  },
  {
   "cell_type": "markdown",
   "id": "fffb91f1",
   "metadata": {},
   "source": [
    "# Find min max in a array witout using auxillary space"
   ]
  },
  {
   "cell_type": "code",
   "execution_count": 20,
   "id": "00fe676b",
   "metadata": {},
   "outputs": [
    {
     "name": "stdout",
     "output_type": "stream",
     "text": [
      "min:2 and max:9\n"
     ]
    }
   ],
   "source": [
    "list_2=[2,9,7,9,6]\n",
    "def find_min_max(list_2):\n",
    "    min_1=list_2[0]\n",
    "    max_1=list_2[1]\n",
    "    if min_1>max_1:\n",
    "        max_1,min_1=list_2[0],list_2[1]\n",
    "        \n",
    "    i=2\n",
    "    while i <len(list_2):\n",
    "        ele=list_2[i]\n",
    "        if ele<min_1:\n",
    "            min_1=ele\n",
    "        elif ele>max_1:\n",
    "            max_1=ele\n",
    "        else:\n",
    "            pass\n",
    "        i+=1\n",
    "    print(f\"min:{min_1} and max:{max_1}\")\n",
    "find_min_max(list_2)       "
   ]
  },
  {
   "cell_type": "markdown",
   "id": "34552829",
   "metadata": {},
   "source": [
    "# Find Kth highest or lowest element"
   ]
  },
  {
   "cell_type": "code",
   "execution_count": 35,
   "id": "07fdf9e7",
   "metadata": {},
   "outputs": [
    {
     "name": "stdout",
     "output_type": "stream",
     "text": [
      "2th smalles is:6\n"
     ]
    }
   ],
   "source": [
    "list_3=[2,2,9,9,7,15,6]\n",
    "def kth_smallest(list_3,k):\n",
    "    max_ele=max(list_3)\n",
    "    freq_dict={}\n",
    "    max_element\n",
    "    for x in list_3:\n",
    "        if x in freq_dict:\n",
    "            freq_dict[x]=freq_dict[x]+1\n",
    "        else:\n",
    "            freq_dict[x]=1\n",
    "    count=0\n",
    "    for y in range(0,max_ele+1):\n",
    "        if y in freq_dict:\n",
    "            count+=1\n",
    "        if count>=k:\n",
    "            break\n",
    "    return y\n",
    "k=2\n",
    "print(f\"{k}th smalles is:{kth_smallest(list_3,k)}\")"
   ]
  },
  {
   "cell_type": "markdown",
   "id": "3eb77470",
   "metadata": {},
   "source": [
    "# Dutch National Flag problem"
   ]
  },
  {
   "cell_type": "code",
   "execution_count": null,
   "id": "caaca9ed",
   "metadata": {},
   "outputs": [],
   "source": [
    "# list_4=[1,1,0,0,0,2,2,1,2]\n",
    "n=len(list_4)\n",
    "def arrange_0_1_2(a,n):\n",
    "    low=0\n",
    "    mid=0\n",
    "    high=n-1\n",
    "    while mid<=high:\n",
    "        if a[mid]==0:\n",
    "            a[low],a[mid]=a[mid],a[low]\n",
    "            low=low+1\n",
    "            mid=mid+1\n",
    "        if a[mid]==1:\n",
    "            mid=mid+1\n",
    "        if a[mid]==2:\n",
    "            a[high],a[mid]=a[mid],a[high]\n",
    "            high=high-1\n",
    "    return a\n",
    "\"\"\"\n",
    "Just update mid when element is 0\n",
    "Just update mid when element is 1\n",
    "Don't Update mid whren element is 2\n",
    "\"\"\"\n",
    "print(f\"Sorted array is:{arrange_0_1_2(list_4,n)}\")"
   ]
  },
  {
   "cell_type": "markdown",
   "id": "37584c62",
   "metadata": {},
   "source": [
    "# Move all negative element at the end of the array"
   ]
  },
  {
   "cell_type": "code",
   "execution_count": 8,
   "id": "4aa0e5b5",
   "metadata": {},
   "outputs": [
    {
     "name": "stdout",
     "output_type": "stream",
     "text": [
      "[-1, -1, -3, -2, -6, 5, 11, 7]\n"
     ]
    }
   ],
   "source": [
    "list_4 = [-1 ,-1 ,-3 , -2, 7, 5, 11, -6]                       \n",
    "\"\"\"arr[low]<0 we need to increment low\n",
    "arr[low]>0 we need to swap\n",
    "arr[high]>0 decrement counter\n",
    "arr[high]<0 we need to swap with postitive of low\n",
    "\"\"\"\n",
    "n=len(list_4)-1\n",
    "def move_negative(arr,n):\n",
    "    low=0\n",
    "    high=n\n",
    "    while low<=high:\n",
    "        while low<=high and arr[high]>0:\n",
    "            high=high-1\n",
    "        while low<=high and arr[low]<0:\n",
    "            low=low+1\n",
    "        if low<=high:\n",
    "            arr[low],arr[high]=arr[high],arr[low]\n",
    "            high=high-1\n",
    "            low=low+1       \n",
    "    print(arr)\n",
    "move_negative(list_4,n) "
   ]
  },
  {
   "cell_type": "markdown",
   "id": "d3f6a046",
   "metadata": {},
   "source": [
    "# Union of two array"
   ]
  },
  {
   "cell_type": "code",
   "execution_count": 11,
   "id": "cadf477d",
   "metadata": {},
   "outputs": [],
   "source": [
    "array1=[1,2,4,2,5,6]\n",
    "array2=[3,4,5,6,8,9]"
   ]
  },
  {
   "cell_type": "code",
   "execution_count": 12,
   "id": "9ac216ae",
   "metadata": {},
   "outputs": [
    {
     "data": {
      "text/plain": [
       "{1, 2, 3, 4, 5, 6, 8, 9}"
      ]
     },
     "execution_count": 12,
     "metadata": {},
     "output_type": "execute_result"
    }
   ],
   "source": [
    "set(array1+array2)"
   ]
  },
  {
   "cell_type": "markdown",
   "id": "da2b3eff",
   "metadata": {},
   "source": [
    "# Intersection of the array"
   ]
  },
  {
   "cell_type": "code",
   "execution_count": 13,
   "id": "1ecf28c4",
   "metadata": {},
   "outputs": [],
   "source": [
    "array1=[1,2,4,2,5,6]\n",
    "array2=[3,4,5,6,8,9]"
   ]
  },
  {
   "cell_type": "code",
   "execution_count": 14,
   "id": "30380b43",
   "metadata": {},
   "outputs": [],
   "source": [
    "set1=set(array1)"
   ]
  },
  {
   "cell_type": "code",
   "execution_count": 15,
   "id": "a5acb67e",
   "metadata": {},
   "outputs": [
    {
     "name": "stdout",
     "output_type": "stream",
     "text": [
      "[4, 5, 6]\n"
     ]
    }
   ],
   "source": [
    "intersection=[]\n",
    "for x in set1:\n",
    "    if x in array2:\n",
    "        intersection.append(x)\n",
    "print(intersection)\n",
    "        "
   ]
  },
  {
   "cell_type": "markdown",
   "id": "fc64e79e",
   "metadata": {},
   "source": [
    "# Program to cyclically rotate an array by one"
   ]
  },
  {
   "cell_type": "code",
   "execution_count": 24,
   "id": "c070e1ba",
   "metadata": {},
   "outputs": [
    {
     "name": "stdout",
     "output_type": "stream",
     "text": [
      "[5, 1, 2, 3, 4]\n"
     ]
    }
   ],
   "source": [
    "list_5=[1, 2, 3, 4, 5]\n",
    "n=len(list_5)-1\n",
    "def rotate_array(list_5,n):\n",
    "    last_el=list_5[-1]\n",
    "    while n>=1:\n",
    "        list_5[n]=list_5[n-1]\n",
    "        n-=1\n",
    "    list_5[0]=last_el\n",
    "    print(list_5)\n",
    "    return list_5\n",
    "list_5=rotate_array(list_5,n)"
   ]
  },
  {
   "cell_type": "markdown",
   "id": "e7f12662",
   "metadata": {},
   "source": [
    "# If we want to rotate an array by k position we can call above function k time otherwise we can use juggling algorithm"
   ]
  },
  {
   "cell_type": "code",
   "execution_count": null,
   "id": "8cd3121e",
   "metadata": {},
   "outputs": [],
   "source": []
  }
 ],
 "metadata": {
  "kernelspec": {
   "display_name": "Python 3 (ipykernel)",
   "language": "python",
   "name": "python3"
  },
  "language_info": {
   "codemirror_mode": {
    "name": "ipython",
    "version": 3
   },
   "file_extension": ".py",
   "mimetype": "text/x-python",
   "name": "python",
   "nbconvert_exporter": "python",
   "pygments_lexer": "ipython3",
   "version": "3.8.10"
  }
 },
 "nbformat": 4,
 "nbformat_minor": 5
}
