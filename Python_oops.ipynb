{
 "cells": [
  {
   "cell_type": "markdown",
   "id": "84896036",
   "metadata": {},
   "source": [
    "# Pre-Defined or Initialized list"
   ]
  },
  {
   "cell_type": "code",
   "execution_count": 9,
   "id": "48a0113e",
   "metadata": {},
   "outputs": [
    {
     "data": {
      "text/plain": [
       "[0, 0, 0, 0, 0, 0, 0, 0, 0, 0]"
      ]
     },
     "execution_count": 9,
     "metadata": {},
     "output_type": "execute_result"
    }
   ],
   "source": [
    "list_1=[0]*10\n",
    "list_1"
   ]
  },
  {
   "cell_type": "markdown",
   "id": "5581f2ae",
   "metadata": {},
   "source": [
    "# str1=\"7355790659\""
   ]
  },
  {
   "cell_type": "code",
   "execution_count": 13,
   "id": "9207c94a",
   "metadata": {},
   "outputs": [],
   "source": [
    "str1=\"7355790659\"\n",
    "temp_list=[]\n",
    "for x in str1:\n",
    "    temp_list.append(int(x))"
   ]
  },
  {
   "cell_type": "code",
   "execution_count": 14,
   "id": "a3889f29",
   "metadata": {},
   "outputs": [
    {
     "data": {
      "text/plain": [
       "[7, 3, 5, 5, 7, 9, 0, 6, 5, 9]"
      ]
     },
     "execution_count": 14,
     "metadata": {},
     "output_type": "execute_result"
    }
   ],
   "source": [
    "temp_list"
   ]
  },
  {
   "cell_type": "code",
   "execution_count": 18,
   "id": "5378773f",
   "metadata": {},
   "outputs": [
    {
     "data": {
      "text/plain": [
       "10.5"
      ]
     },
     "execution_count": 18,
     "metadata": {},
     "output_type": "execute_result"
    }
   ],
   "source": [
    "float(\"10.5\") "
   ]
  },
  {
   "cell_type": "code",
   "execution_count": 20,
   "id": "252623de",
   "metadata": {},
   "outputs": [
    {
     "data": {
      "text/plain": [
       "True"
      ]
     },
     "execution_count": 20,
     "metadata": {},
     "output_type": "execute_result"
    }
   ],
   "source": [
    "bool(\"consent\")"
   ]
  },
  {
   "cell_type": "code",
   "execution_count": 21,
   "id": "68288598",
   "metadata": {},
   "outputs": [
    {
     "data": {
      "text/plain": [
       "True"
      ]
     },
     "execution_count": 21,
     "metadata": {},
     "output_type": "execute_result"
    }
   ],
   "source": [
    "bool(\"tools\")"
   ]
  },
  {
   "cell_type": "code",
   "execution_count": 36,
   "id": "357fc612",
   "metadata": {},
   "outputs": [
    {
     "name": "stdout",
     "output_type": "stream",
     "text": [
      "yes\n"
     ]
    }
   ],
   "source": [
    "if str(True)=='True':\n",
    "    print(\"yes\")\n",
    "else:\n",
    "    print(\"No\")"
   ]
  },
  {
   "cell_type": "markdown",
   "id": "14f6458d",
   "metadata": {},
   "source": [
    "# Memory allocation depends on the value of the variable not identifieres"
   ]
  },
  {
   "cell_type": "code",
   "execution_count": 37,
   "id": "d6c1793c",
   "metadata": {},
   "outputs": [],
   "source": [
    "a=10"
   ]
  },
  {
   "cell_type": "code",
   "execution_count": 38,
   "id": "fad5e8ee",
   "metadata": {},
   "outputs": [],
   "source": [
    "b=10"
   ]
  },
  {
   "cell_type": "code",
   "execution_count": 40,
   "id": "6a7dc7df",
   "metadata": {},
   "outputs": [
    {
     "data": {
      "text/plain": [
       "140730276452400"
      ]
     },
     "execution_count": 40,
     "metadata": {},
     "output_type": "execute_result"
    }
   ],
   "source": [
    "id(a)"
   ]
  },
  {
   "cell_type": "code",
   "execution_count": 41,
   "id": "55ae1c90",
   "metadata": {},
   "outputs": [
    {
     "data": {
      "text/plain": [
       "140730276452400"
      ]
     },
     "execution_count": 41,
     "metadata": {},
     "output_type": "execute_result"
    }
   ],
   "source": [
    "id(b)"
   ]
  },
  {
   "cell_type": "markdown",
   "id": "3e578e7f",
   "metadata": {},
   "source": [
    "# List"
   ]
  },
  {
   "cell_type": "code",
   "execution_count": 76,
   "id": "12ca28b1",
   "metadata": {},
   "outputs": [],
   "source": [
    "list_1=[10,10.5,'durga',True,10] "
   ]
  },
  {
   "cell_type": "code",
   "execution_count": 77,
   "id": "a6baf3fd",
   "metadata": {},
   "outputs": [
    {
     "data": {
      "text/plain": [
       "[10, 10.5, 'durga', True, 10]"
      ]
     },
     "execution_count": 77,
     "metadata": {},
     "output_type": "execute_result"
    }
   ],
   "source": [
    "list_1"
   ]
  },
  {
   "cell_type": "code",
   "execution_count": 78,
   "id": "6aa8097d",
   "metadata": {},
   "outputs": [],
   "source": [
    "temp_1=[10,\"Mohit\"]"
   ]
  },
  {
   "cell_type": "code",
   "execution_count": 79,
   "id": "fb7a48dd",
   "metadata": {},
   "outputs": [],
   "source": [
    "list_1.append(11)"
   ]
  },
  {
   "cell_type": "code",
   "execution_count": 80,
   "id": "40aacb48",
   "metadata": {},
   "outputs": [
    {
     "data": {
      "text/plain": [
       "[10, 10.5, 'durga', True, 10, 11]"
      ]
     },
     "execution_count": 80,
     "metadata": {},
     "output_type": "execute_result"
    }
   ],
   "source": [
    "list_1"
   ]
  },
  {
   "cell_type": "code",
   "execution_count": 81,
   "id": "4e2e2a51",
   "metadata": {},
   "outputs": [],
   "source": [
    "list_1.extend(temp_1)"
   ]
  },
  {
   "cell_type": "code",
   "execution_count": 82,
   "id": "ed431c18",
   "metadata": {},
   "outputs": [
    {
     "data": {
      "text/plain": [
       "[10, 10.5, 'durga', True, 10, 11, 10, 'Mohit']"
      ]
     },
     "execution_count": 82,
     "metadata": {},
     "output_type": "execute_result"
    }
   ],
   "source": [
    "list_1"
   ]
  },
  {
   "cell_type": "code",
   "execution_count": 83,
   "id": "e294eb98",
   "metadata": {},
   "outputs": [],
   "source": [
    "list_1.insert(1,234)#Insert take with given index and corresponding value"
   ]
  },
  {
   "cell_type": "code",
   "execution_count": 84,
   "id": "7d7f8b30",
   "metadata": {},
   "outputs": [
    {
     "data": {
      "text/plain": [
       "[10, 234, 10.5, 'durga', True, 10, 11, 10, 'Mohit']"
      ]
     },
     "execution_count": 84,
     "metadata": {},
     "output_type": "execute_result"
    }
   ],
   "source": [
    "list_1"
   ]
  },
  {
   "cell_type": "code",
   "execution_count": 85,
   "id": "12b24137",
   "metadata": {},
   "outputs": [
    {
     "data": {
      "text/plain": [
       "'Mohit'"
      ]
     },
     "execution_count": 85,
     "metadata": {},
     "output_type": "execute_result"
    }
   ],
   "source": [
    "list_1.pop()"
   ]
  },
  {
   "cell_type": "code",
   "execution_count": 86,
   "id": "451a30b5",
   "metadata": {},
   "outputs": [],
   "source": [
    "list_1.remove(\"durga\")#remove accepts value not index positions "
   ]
  },
  {
   "cell_type": "code",
   "execution_count": 87,
   "id": "72a41be1",
   "metadata": {},
   "outputs": [
    {
     "data": {
      "text/plain": [
       "[10, 234, 10.5, True, 10, 11, 10]"
      ]
     },
     "execution_count": 87,
     "metadata": {},
     "output_type": "execute_result"
    }
   ],
   "source": [
    "list_1"
   ]
  },
  {
   "cell_type": "code",
   "execution_count": 88,
   "id": "f5cdd290",
   "metadata": {},
   "outputs": [],
   "source": [
    "list_2=list_1*2"
   ]
  },
  {
   "cell_type": "code",
   "execution_count": 89,
   "id": "db95f1c2",
   "metadata": {},
   "outputs": [
    {
     "data": {
      "text/plain": [
       "[10, 234, 10.5, True, 10, 11, 10, 10, 234, 10.5, True, 10, 11, 10]"
      ]
     },
     "execution_count": 89,
     "metadata": {},
     "output_type": "execute_result"
    }
   ],
   "source": [
    "list_2"
   ]
  },
  {
   "cell_type": "code",
   "execution_count": 90,
   "id": "dec16974",
   "metadata": {},
   "outputs": [],
   "source": [
    "zero_list=[0]*10"
   ]
  },
  {
   "cell_type": "code",
   "execution_count": 91,
   "id": "201554fd",
   "metadata": {},
   "outputs": [
    {
     "data": {
      "text/plain": [
       "[0, 0, 0, 0, 0, 0, 0, 0, 0, 0]"
      ]
     },
     "execution_count": 91,
     "metadata": {},
     "output_type": "execute_result"
    }
   ],
   "source": [
    "zero_list"
   ]
  },
  {
   "cell_type": "markdown",
   "id": "630172be",
   "metadata": {},
   "source": [
    "# Tuple Immutable in nature and one time declaration"
   ]
  },
  {
   "cell_type": "code",
   "execution_count": 115,
   "id": "ea7b5090",
   "metadata": {},
   "outputs": [
    {
     "data": {
      "text/plain": [
       "str"
      ]
     },
     "execution_count": 115,
     "metadata": {},
     "output_type": "execute_result"
    }
   ],
   "source": [
    "a=(\"mohit\")#Tuple with single value is itself a datatype you can not consider tuple having single value\n",
    "type(a)"
   ]
  },
  {
   "cell_type": "code",
   "execution_count": 116,
   "id": "507d688a",
   "metadata": {},
   "outputs": [],
   "source": [
    "a=(1,2)"
   ]
  },
  {
   "cell_type": "code",
   "execution_count": 117,
   "id": "e915df8d",
   "metadata": {},
   "outputs": [
    {
     "data": {
      "text/plain": [
       "tuple"
      ]
     },
     "execution_count": 117,
     "metadata": {},
     "output_type": "execute_result"
    }
   ],
   "source": [
    "type(a)"
   ]
  },
  {
   "cell_type": "code",
   "execution_count": 118,
   "id": "28838963",
   "metadata": {},
   "outputs": [],
   "source": [
    "b=(1,\"monit\",1.2)"
   ]
  },
  {
   "cell_type": "code",
   "execution_count": 119,
   "id": "aa699401",
   "metadata": {},
   "outputs": [
    {
     "data": {
      "text/plain": [
       "(1, 'monit', 1.2)"
      ]
     },
     "execution_count": 119,
     "metadata": {},
     "output_type": "execute_result"
    }
   ],
   "source": [
    "b"
   ]
  },
  {
   "cell_type": "code",
   "execution_count": 120,
   "id": "183e3ec0",
   "metadata": {},
   "outputs": [
    {
     "ename": "TypeError",
     "evalue": "'tuple' object does not support item assignment",
     "output_type": "error",
     "traceback": [
      "\u001b[1;31m---------------------------------------------------------------------------\u001b[0m",
      "\u001b[1;31mTypeError\u001b[0m                                 Traceback (most recent call last)",
      "Cell \u001b[1;32mIn [120], line 1\u001b[0m\n\u001b[1;32m----> 1\u001b[0m \u001b[43mb\u001b[49m\u001b[43m[\u001b[49m\u001b[38;5;241;43m1\u001b[39;49m\u001b[43m]\u001b[49m\u001b[38;5;241m=\u001b[39m\u001b[38;5;124m\"\u001b[39m\u001b[38;5;124mKumar\u001b[39m\u001b[38;5;124m\"\u001b[39m\n",
      "\u001b[1;31mTypeError\u001b[0m: 'tuple' object does not support item assignment"
     ]
    }
   ],
   "source": [
    "b[1]=\"Kumar\""
   ]
  },
  {
   "cell_type": "code",
   "execution_count": 121,
   "id": "152f5b9c",
   "metadata": {},
   "outputs": [
    {
     "ename": "AttributeError",
     "evalue": "'tuple' object has no attribute 'append'",
     "output_type": "error",
     "traceback": [
      "\u001b[1;31m---------------------------------------------------------------------------\u001b[0m",
      "\u001b[1;31mAttributeError\u001b[0m                            Traceback (most recent call last)",
      "Cell \u001b[1;32mIn [121], line 1\u001b[0m\n\u001b[1;32m----> 1\u001b[0m \u001b[43mb\u001b[49m\u001b[38;5;241;43m.\u001b[39;49m\u001b[43mappend\u001b[49m(\u001b[38;5;241m23\u001b[39m)\n",
      "\u001b[1;31mAttributeError\u001b[0m: 'tuple' object has no attribute 'append'"
     ]
    }
   ],
   "source": [
    "b.append(23)"
   ]
  },
  {
   "cell_type": "markdown",
   "id": "a2e77918",
   "metadata": {},
   "source": [
    "# Range it is an iterable object range are immutable in  nature"
   ]
  },
  {
   "cell_type": "code",
   "execution_count": 129,
   "id": "bce0c92d",
   "metadata": {},
   "outputs": [],
   "source": [
    "r=range(10)"
   ]
  },
  {
   "cell_type": "code",
   "execution_count": 130,
   "id": "d394167d",
   "metadata": {},
   "outputs": [
    {
     "data": {
      "text/plain": [
       "range"
      ]
     },
     "execution_count": 130,
     "metadata": {},
     "output_type": "execute_result"
    }
   ],
   "source": [
    "type(r)"
   ]
  },
  {
   "cell_type": "code",
   "execution_count": 131,
   "id": "60d00211",
   "metadata": {},
   "outputs": [
    {
     "ename": "TypeError",
     "evalue": "'range' object does not support item assignment",
     "output_type": "error",
     "traceback": [
      "\u001b[1;31m---------------------------------------------------------------------------\u001b[0m",
      "\u001b[1;31mTypeError\u001b[0m                                 Traceback (most recent call last)",
      "Cell \u001b[1;32mIn [131], line 1\u001b[0m\n\u001b[1;32m----> 1\u001b[0m \u001b[43mr\u001b[49m\u001b[43m[\u001b[49m\u001b[38;5;241;43m1\u001b[39;49m\u001b[43m]\u001b[49m\u001b[38;5;241m=\u001b[39m\u001b[38;5;241m3\u001b[39m\n",
      "\u001b[1;31mTypeError\u001b[0m: 'range' object does not support item assignment"
     ]
    }
   ],
   "source": [
    "r[1]=3"
   ]
  },
  {
   "cell_type": "markdown",
   "id": "1805d9dc",
   "metadata": {},
   "source": [
    "# We can add element and remove element in set"
   ]
  },
  {
   "cell_type": "code",
   "execution_count": 160,
   "id": "0c1fa0d1",
   "metadata": {},
   "outputs": [],
   "source": [
    "set_list=[1,11,3,10,2,30,20]"
   ]
  },
  {
   "cell_type": "code",
   "execution_count": 161,
   "id": "b310ed2c",
   "metadata": {},
   "outputs": [],
   "source": [
    "set_1=set(set_list)"
   ]
  },
  {
   "cell_type": "code",
   "execution_count": 162,
   "id": "fc87ddb8",
   "metadata": {},
   "outputs": [
    {
     "data": {
      "text/plain": [
       "{1, 2, 3, 10, 11, 20, 30}"
      ]
     },
     "execution_count": 162,
     "metadata": {},
     "output_type": "execute_result"
    }
   ],
   "source": [
    "set_1"
   ]
  },
  {
   "cell_type": "code",
   "execution_count": 153,
   "id": "6299d802",
   "metadata": {},
   "outputs": [],
   "source": [
    "set_list_2=[\"Mohit\",\"Mohit\",\"Kumar\",\"d\",\"a\",10,20,2,30,1,76]"
   ]
  },
  {
   "cell_type": "code",
   "execution_count": 154,
   "id": "2ef523ae",
   "metadata": {},
   "outputs": [
    {
     "data": {
      "text/plain": [
       "{1, 10, 2, 20, 30, 76, 'Kumar', 'Mohit', 'a', 'd'}"
      ]
     },
     "execution_count": 154,
     "metadata": {},
     "output_type": "execute_result"
    }
   ],
   "source": [
    "set(set_list_2)"
   ]
  },
  {
   "cell_type": "code",
   "execution_count": 159,
   "id": "abbf5465",
   "metadata": {},
   "outputs": [
    {
     "data": {
      "text/plain": [
       "{'Kumar', 'Mohit', 'a', 'd'}"
      ]
     },
     "execution_count": 159,
     "metadata": {},
     "output_type": "execute_result"
    }
   ],
   "source": [
    "set_list_3=[\"Mohit\",\"Mohit\",\"Kumar\",\"d\",\"a\"]\n",
    "set(set_list_3)"
   ]
  },
  {
   "cell_type": "code",
   "execution_count": 164,
   "id": "52ce0707",
   "metadata": {},
   "outputs": [
    {
     "data": {
      "text/plain": [
       "{'a', 'b', 'c', 'd'}"
      ]
     },
     "execution_count": 164,
     "metadata": {},
     "output_type": "execute_result"
    }
   ],
   "source": [
    "set_list_4=[\"d\",\"b\",\"a\",\"c\"]\n",
    "set(set_list_4)"
   ]
  },
  {
   "cell_type": "code",
   "execution_count": 171,
   "id": "cb685650",
   "metadata": {},
   "outputs": [],
   "source": [
    "set_list_5=[\"Aamit\",\"Sangh\",\"Mohit\",\"Ku\",\"a\",\"A\"]"
   ]
  },
  {
   "cell_type": "code",
   "execution_count": 172,
   "id": "1705e085",
   "metadata": {},
   "outputs": [
    {
     "data": {
      "text/plain": [
       "{'A', 'Aamit', 'Ku', 'Mohit', 'Sangh', 'a'}"
      ]
     },
     "execution_count": 172,
     "metadata": {},
     "output_type": "execute_result"
    }
   ],
   "source": [
    "set(set_list_5)"
   ]
  },
  {
   "cell_type": "markdown",
   "id": "d593c54c",
   "metadata": {},
   "source": [
    "# Define douuble quotes inside double quote in a string using backslash operator"
   ]
  },
  {
   "cell_type": "code",
   "execution_count": 196,
   "id": "3bcdff05",
   "metadata": {},
   "outputs": [
    {
     "name": "stdout",
     "output_type": "stream",
     "text": [
      "this is \"Mohit's show\"\n"
     ]
    }
   ],
   "source": [
    "str1 = 'this is \"Mohit\\'s show\"'\n",
    "print(str1)"
   ]
  },
  {
   "cell_type": "code",
   "execution_count": 197,
   "id": "47a7cf5c",
   "metadata": {},
   "outputs": [
    {
     "name": "stdout",
     "output_type": "stream",
     "text": [
      "this is \"Mohit's show\n"
     ]
    }
   ],
   "source": [
    "str1=\"this is \\\"Mohit's show\"\n",
    "print(str1)"
   ]
  },
  {
   "cell_type": "code",
   "execution_count": 198,
   "id": "d7e60f73",
   "metadata": {},
   "outputs": [
    {
     "data": {
      "text/plain": [
       "'This is \" symbol'"
      ]
     },
     "execution_count": 198,
     "metadata": {},
     "output_type": "execute_result"
    }
   ],
   "source": [
    "s=\"This is \\\" symbol\" \n",
    "s"
   ]
  },
  {
   "cell_type": "markdown",
   "id": "f37b7fa8",
   "metadata": {},
   "source": [
    "# Logical operators for non boolean values"
   ]
  },
  {
   "cell_type": "code",
   "execution_count": 210,
   "id": "d42bb637",
   "metadata": {},
   "outputs": [],
   "source": [
    "a=10\n",
    "b=1\n",
    "c=20"
   ]
  },
  {
   "cell_type": "code",
   "execution_count": 211,
   "id": "ad797827",
   "metadata": {},
   "outputs": [
    {
     "data": {
      "text/plain": [
       "1"
      ]
     },
     "execution_count": 211,
     "metadata": {},
     "output_type": "execute_result"
    }
   ],
   "source": [
    "a and b"
   ]
  },
  {
   "cell_type": "code",
   "execution_count": 212,
   "id": "af07296e",
   "metadata": {},
   "outputs": [
    {
     "data": {
      "text/plain": [
       "10"
      ]
     },
     "execution_count": 212,
     "metadata": {},
     "output_type": "execute_result"
    }
   ],
   "source": [
    "b and a"
   ]
  },
  {
   "cell_type": "code",
   "execution_count": 213,
   "id": "ad3d560d",
   "metadata": {},
   "outputs": [
    {
     "data": {
      "text/plain": [
       "20"
      ]
     },
     "execution_count": 213,
     "metadata": {},
     "output_type": "execute_result"
    }
   ],
   "source": [
    "a and c"
   ]
  },
  {
   "cell_type": "code",
   "execution_count": 214,
   "id": "dc65d718",
   "metadata": {},
   "outputs": [
    {
     "data": {
      "text/plain": [
       "10"
      ]
     },
     "execution_count": 214,
     "metadata": {},
     "output_type": "execute_result"
    }
   ],
   "source": [
    "c and a"
   ]
  },
  {
   "cell_type": "code",
   "execution_count": 215,
   "id": "5d0565d5",
   "metadata": {},
   "outputs": [
    {
     "data": {
      "text/plain": [
       "1"
      ]
     },
     "execution_count": 215,
     "metadata": {},
     "output_type": "execute_result"
    }
   ],
   "source": [
    "c and b"
   ]
  },
  {
   "cell_type": "code",
   "execution_count": 216,
   "id": "2c0e13e1",
   "metadata": {},
   "outputs": [
    {
     "data": {
      "text/plain": [
       "20"
      ]
     },
     "execution_count": 216,
     "metadata": {},
     "output_type": "execute_result"
    }
   ],
   "source": [
    "c or b"
   ]
  },
  {
   "cell_type": "code",
   "execution_count": 217,
   "id": "6222e852",
   "metadata": {},
   "outputs": [
    {
     "data": {
      "text/plain": [
       "10"
      ]
     },
     "execution_count": 217,
     "metadata": {},
     "output_type": "execute_result"
    }
   ],
   "source": [
    "a or c"
   ]
  },
  {
   "cell_type": "code",
   "execution_count": 218,
   "id": "1cbe9219",
   "metadata": {},
   "outputs": [
    {
     "data": {
      "text/plain": [
       "10"
      ]
     },
     "execution_count": 218,
     "metadata": {},
     "output_type": "execute_result"
    }
   ],
   "source": [
    "a or b"
   ]
  },
  {
   "cell_type": "code",
   "execution_count": 219,
   "id": "cb33768b",
   "metadata": {},
   "outputs": [
    {
     "data": {
      "text/plain": [
       "1"
      ]
     },
     "execution_count": 219,
     "metadata": {},
     "output_type": "execute_result"
    }
   ],
   "source": [
    "b or a"
   ]
  },
  {
   "cell_type": "code",
   "execution_count": 220,
   "id": "99aa9d62",
   "metadata": {},
   "outputs": [],
   "source": [
    "d=0"
   ]
  },
  {
   "cell_type": "code",
   "execution_count": 222,
   "id": "e40108f3",
   "metadata": {},
   "outputs": [
    {
     "data": {
      "text/plain": [
       "False"
      ]
     },
     "execution_count": 222,
     "metadata": {},
     "output_type": "execute_result"
    }
   ],
   "source": [
    "bool(d)"
   ]
  },
  {
   "cell_type": "code",
   "execution_count": 223,
   "id": "4de2df2c",
   "metadata": {},
   "outputs": [
    {
     "data": {
      "text/plain": [
       "True"
      ]
     },
     "execution_count": 223,
     "metadata": {},
     "output_type": "execute_result"
    }
   ],
   "source": [
    "not d"
   ]
  },
  {
   "cell_type": "code",
   "execution_count": 224,
   "id": "1404d14f",
   "metadata": {},
   "outputs": [
    {
     "data": {
      "text/plain": [
       "False"
      ]
     },
     "execution_count": 224,
     "metadata": {},
     "output_type": "execute_result"
    }
   ],
   "source": [
    "not a "
   ]
  },
  {
   "cell_type": "markdown",
   "id": "dcb71023",
   "metadata": {},
   "source": [
    "# ^ this is known as caret ~ this known as tilde"
   ]
  },
  {
   "cell_type": "code",
   "execution_count": 245,
   "id": "49085ea0",
   "metadata": {},
   "outputs": [],
   "source": [
    "a=10\n",
    "b=20\n",
    "# 1 ,0 \n",
    "# 1*1+0*0\n",
    "#xor operation a*bc+b*ac\n",
    "#01010=10\n",
    "# 2^4 2^3 2^2 2^1 2^0\n",
    "# 01010  \n",
    "# <<2   #left shgift operato\n",
    "# 0101000\n",
    "# 10100\n",
    "or 11110\n",
    "# #10100=20\n",
    "# 11110"
   ]
  },
  {
   "cell_type": "code",
   "execution_count": 256,
   "id": "2d81122d",
   "metadata": {},
   "outputs": [
    {
     "data": {
      "text/plain": [
       "40"
      ]
     },
     "execution_count": 256,
     "metadata": {},
     "output_type": "execute_result"
    }
   ],
   "source": [
    "10<<2"
   ]
  },
  {
   "cell_type": "code",
   "execution_count": 234,
   "id": "b489bb53",
   "metadata": {},
   "outputs": [
    {
     "data": {
      "text/plain": [
       "30"
      ]
     },
     "execution_count": 234,
     "metadata": {},
     "output_type": "execute_result"
    }
   ],
   "source": [
    "a^b"
   ]
  },
  {
   "cell_type": "code",
   "execution_count": 235,
   "id": "abae9acd",
   "metadata": {},
   "outputs": [
    {
     "data": {
      "text/plain": [
       "0"
      ]
     },
     "execution_count": 235,
     "metadata": {},
     "output_type": "execute_result"
    }
   ],
   "source": [
    "a&b"
   ]
  },
  {
   "cell_type": "code",
   "execution_count": 246,
   "id": "b9c83c55",
   "metadata": {},
   "outputs": [
    {
     "data": {
      "text/plain": [
       "30"
      ]
     },
     "execution_count": 246,
     "metadata": {},
     "output_type": "execute_result"
    }
   ],
   "source": [
    "a|b"
   ]
  },
  {
   "cell_type": "markdown",
   "id": "ab383e79",
   "metadata": {},
   "source": [
    "# Go thorough some videos for caret operation it involves the sign and unsigned bit"
   ]
  },
  {
   "cell_type": "code",
   "execution_count": 250,
   "id": "156d190b",
   "metadata": {},
   "outputs": [
    {
     "data": {
      "text/plain": [
       "-2"
      ]
     },
     "execution_count": 250,
     "metadata": {},
     "output_type": "execute_result"
    }
   ],
   "source": [
    "~1"
   ]
  },
  {
   "cell_type": "code",
   "execution_count": 251,
   "id": "b38ee2e2",
   "metadata": {},
   "outputs": [
    {
     "data": {
      "text/plain": [
       "-11"
      ]
     },
     "execution_count": 251,
     "metadata": {},
     "output_type": "execute_result"
    }
   ],
   "source": [
    "c=~a\n",
    "c"
   ]
  },
  {
   "cell_type": "code",
   "execution_count": 252,
   "id": "3fbb1831",
   "metadata": {},
   "outputs": [
    {
     "data": {
      "text/plain": [
       "-21"
      ]
     },
     "execution_count": 252,
     "metadata": {},
     "output_type": "execute_result"
    }
   ],
   "source": [
    "d=~b\n",
    "d"
   ]
  },
  {
   "cell_type": "code",
   "execution_count": 253,
   "id": "ab691ab1",
   "metadata": {},
   "outputs": [
    {
     "data": {
      "text/plain": [
       "-6"
      ]
     },
     "execution_count": 253,
     "metadata": {},
     "output_type": "execute_result"
    }
   ],
   "source": [
    "~5"
   ]
  },
  {
   "cell_type": "code",
   "execution_count": 257,
   "id": "b899188c",
   "metadata": {},
   "outputs": [],
   "source": [
    "# ^  Bitwise X-OR\n",
    "# |  Bitwise OR\n",
    "# >,>=,<,<=, ==, != ==>Relational or Comparison operators\n",
    "# =,+=,-=,*=... ==>Assignment operators\n",
    "# is , is not  Identity Operators\n",
    "# in , not in  Membership operators\n",
    "# not  Logical not\n",
    "# and  Logical and\n",
    "# or  Logical or"
   ]
  },
  {
   "cell_type": "markdown",
   "id": "079cfcb7",
   "metadata": {},
   "source": [
    "# Mathematical functions"
   ]
  },
  {
   "cell_type": "code",
   "execution_count": 258,
   "id": "7fbb861d",
   "metadata": {},
   "outputs": [],
   "source": [
    "import math"
   ]
  },
  {
   "cell_type": "code",
   "execution_count": 262,
   "id": "d8e6a914",
   "metadata": {},
   "outputs": [
    {
     "data": {
      "text/plain": [
       "1.0"
      ]
     },
     "execution_count": 262,
     "metadata": {},
     "output_type": "execute_result"
    }
   ],
   "source": [
    "math.log(10,10)"
   ]
  },
  {
   "cell_type": "code",
   "execution_count": 263,
   "id": "0a674e04",
   "metadata": {},
   "outputs": [
    {
     "data": {
      "text/plain": [
       "3.141592653589793"
      ]
     },
     "execution_count": 263,
     "metadata": {},
     "output_type": "execute_result"
    }
   ],
   "source": [
    "math.pi"
   ]
  },
  {
   "cell_type": "code",
   "execution_count": null,
   "id": "a97c1e16",
   "metadata": {},
   "outputs": [],
   "source": [
    "# math.sqrt((16))"
   ]
  },
  {
   "cell_type": "markdown",
   "id": "964250f3",
   "metadata": {},
   "source": [
    "# Eval Function Take dynamic input using eval"
   ]
  },
  {
   "cell_type": "code",
   "execution_count": null,
   "id": "f728e432",
   "metadata": {},
   "outputs": [],
   "source": [
    "# x=eval(input())\n",
    "print(type(x))\n",
    "print(x)"
   ]
  },
  {
   "cell_type": "markdown",
   "id": "2d7fa875",
   "metadata": {},
   "source": [
    "# Print functionalties"
   ]
  },
  {
   "cell_type": "code",
   "execution_count": 290,
   "id": "f9d0033b",
   "metadata": {},
   "outputs": [
    {
     "name": "stdout",
     "output_type": "stream",
     "text": [
      "10\t20\t30\n"
     ]
    }
   ],
   "source": [
    "a=10\n",
    "b=20\n",
    "c=30\n",
    "print(a,b,c,sep=\"\\t\")"
   ]
  },
  {
   "cell_type": "markdown",
   "id": "68a1ac44",
   "metadata": {},
   "source": [
    "# Patterns "
   ]
  },
  {
   "cell_type": "markdown",
   "id": "379fae5e",
   "metadata": {},
   "source": [
    "# pattern:1"
   ]
  },
  {
   "cell_type": "code",
   "execution_count": 295,
   "id": "e9b6e739",
   "metadata": {},
   "outputs": [
    {
     "name": "stdout",
     "output_type": "stream",
     "text": [
      "\n",
      "*\n",
      "**\n",
      "***\n",
      "****\n",
      "*****\n",
      "******\n"
     ]
    }
   ],
   "source": [
    "i=7\n",
    "j=7\n",
    "for m in range(0,i,1):\n",
    "    str1=\"\"\n",
    "    for j in range(0,m,1):\n",
    "        str1=str1+\"*\"\n",
    "    print(str1)"
   ]
  },
  {
   "cell_type": "code",
   "execution_count": 297,
   "id": "cbfe8f06",
   "metadata": {},
   "outputs": [
    {
     "name": "stdout",
     "output_type": "stream",
     "text": [
      "*******\n",
      "******\n",
      "*****\n",
      "****\n",
      "***\n",
      "**\n",
      "*\n"
     ]
    }
   ],
   "source": [
    "i=7\n",
    "j=7\n",
    "for m in range(0,i,1):\n",
    "    str1=\"\"\n",
    "    for n in range(0,j-m,1):\n",
    "        str1=str1+\"*\"\n",
    "    print(str1)"
   ]
  },
  {
   "cell_type": "code",
   "execution_count": 298,
   "id": "c35496cd",
   "metadata": {},
   "outputs": [],
   "source": [
    "n=7"
   ]
  },
  {
   "cell_type": "code",
   "execution_count": 9,
   "id": "3fd56164",
   "metadata": {},
   "outputs": [],
   "source": [
    "n=7\n",
    "m=7\n",
    "mid=3\n"
   ]
  },
  {
   "cell_type": "code",
   "execution_count": 11,
   "id": "a5ebcacd",
   "metadata": {},
   "outputs": [
    {
     "name": "stdout",
     "output_type": "stream",
     "text": [
      "    *\n",
      "   ***\n",
      "  *****\n",
      " *******\n",
      "*********\n"
     ]
    }
   ],
   "source": [
    "def print_pyramid(rows):\n",
    "    for i in range(1, rows + 1):\n",
    "        # Print leading spaces\n",
    "        for j in range(rows - i):\n",
    "            print(\" \", end=\"\")\n",
    "        \n",
    "        # Print asterisks\n",
    "        for k in range(2 * i - 1):\n",
    "            print(\"*\", end=\"\")\n",
    "        \n",
    "        # Move to the next line after each row\n",
    "        print()\n",
    "\n",
    "# Example: print a pyramid with 5 rows\n",
    "print_pyramid(5)\n",
    "\n",
    "        "
   ]
  },
  {
   "cell_type": "code",
   "execution_count": 21,
   "id": "2029484f",
   "metadata": {},
   "outputs": [
    {
     "name": "stdout",
     "output_type": "stream",
     "text": [
      "Enter number of rows:5\n",
      "    * \n",
      "   * * \n",
      "  * * * \n",
      " * * * * \n",
      "* * * * * \n"
     ]
    }
   ],
   "source": [
    "n = int(input(\"Enter number of rows:\"))\n",
    "for i in range(1,n+1):\n",
    "    print(\" \"* (n-i),end=\"\")\n",
    "    print(\"* \"*i) "
   ]
  },
  {
   "cell_type": "code",
   "execution_count": 24,
   "id": "9a671675",
   "metadata": {},
   "outputs": [
    {
     "name": "stdout",
     "output_type": "stream",
     "text": [
      "10\n",
      "20\n",
      "30\n",
      "40\n",
      "50\n",
      "Congrats ...all items processed successfully\n"
     ]
    }
   ],
   "source": [
    "cart=[10,20,30,40,50]\n",
    "for item in cart:\n",
    "    if item>=500:\n",
    "        print(\"We cannot process this order\")\n",
    "        break\n",
    "    print(item)\n",
    "else:\n",
    "    print(\"Congrats ...all items processed successfully\") "
   ]
  },
  {
   "cell_type": "code",
   "execution_count": 26,
   "id": "f8d2937b",
   "metadata": {},
   "outputs": [],
   "source": [
    "str1=\"\"\"\n",
    "mohit\n",
    "kumar\n",
    "\"\"\""
   ]
  },
  {
   "cell_type": "code",
   "execution_count": 27,
   "id": "9f610623",
   "metadata": {},
   "outputs": [
    {
     "name": "stdout",
     "output_type": "stream",
     "text": [
      "yes\n"
     ]
    }
   ],
   "source": [
    "sub=\"mohit\"\n",
    "if sub in str1:\n",
    "    print(\"yes\")\n",
    "else:\n",
    "    print(\"No\")"
   ]
  },
  {
   "cell_type": "code",
   "execution_count": 35,
   "id": "1d98ed77",
   "metadata": {},
   "outputs": [
    {
     "name": "stdout",
     "output_type": "stream",
     "text": [
      "based on characters\n"
     ]
    }
   ],
   "source": [
    "str1=\"Kumap\"\n",
    "str2=\"Kumar\"\n",
    "if str1==str2:\n",
    "    print(\"yes\")\n",
    "elif str1<str2:\n",
    "    print(\"based on characters\")\n",
    "elif str1>str2:\n",
    "    print(\"based on characters 2\")"
   ]
  },
  {
   "cell_type": "code",
   "execution_count": 41,
   "id": "af953040",
   "metadata": {},
   "outputs": [],
   "source": [
    "str1=\"mohit\"\n",
    "str2=str1.replace(\"o\",\"p\")"
   ]
  },
  {
   "cell_type": "code",
   "execution_count": 42,
   "id": "48d11357",
   "metadata": {},
   "outputs": [
    {
     "data": {
      "text/plain": [
       "'mohit'"
      ]
     },
     "execution_count": 42,
     "metadata": {},
     "output_type": "execute_result"
    }
   ],
   "source": [
    "str1"
   ]
  },
  {
   "cell_type": "code",
   "execution_count": 43,
   "id": "a1620403",
   "metadata": {},
   "outputs": [
    {
     "data": {
      "text/plain": [
       "'mphit'"
      ]
     },
     "execution_count": 43,
     "metadata": {},
     "output_type": "execute_result"
    }
   ],
   "source": [
    "str2"
   ]
  },
  {
   "cell_type": "code",
   "execution_count": 48,
   "id": "6edfcb1a",
   "metadata": {},
   "outputs": [],
   "source": [
    "str1=\"This is Mohit and we are learning python together\"\n",
    "l=str1.split()#strings are immutable in nature so new objects created"
   ]
  },
  {
   "cell_type": "code",
   "execution_count": 49,
   "id": "27e6af53",
   "metadata": {},
   "outputs": [
    {
     "data": {
      "text/plain": [
       "'This is Mohit and we are learning python together'"
      ]
     },
     "execution_count": 49,
     "metadata": {},
     "output_type": "execute_result"
    }
   ],
   "source": [
    "str1"
   ]
  },
  {
   "cell_type": "code",
   "execution_count": 57,
   "id": "92964c67",
   "metadata": {},
   "outputs": [],
   "source": [
    "str2=\"-\".join(l)"
   ]
  },
  {
   "cell_type": "code",
   "execution_count": 58,
   "id": "91cbbfff",
   "metadata": {},
   "outputs": [
    {
     "data": {
      "text/plain": [
       "'This-is-Mohit-and-we-are-learning-python-together'"
      ]
     },
     "execution_count": 58,
     "metadata": {},
     "output_type": "execute_result"
    }
   ],
   "source": [
    "str2"
   ]
  },
  {
   "cell_type": "code",
   "execution_count": 79,
   "id": "47d32645",
   "metadata": {},
   "outputs": [],
   "source": [
    "str1=\"Mohit kumar\""
   ]
  },
  {
   "cell_type": "code",
   "execution_count": 80,
   "id": "eb9e3555",
   "metadata": {},
   "outputs": [
    {
     "name": "stdout",
     "output_type": "stream",
     "text": [
      "ramuk tihoM\n"
     ]
    }
   ],
   "source": [
    "str2=\"\"\n",
    "for x in range(len(str1),0,-1):\n",
    "    str2=str2+str1[x-1] \n",
    "print(str2)"
   ]
  },
  {
   "cell_type": "code",
   "execution_count": 89,
   "id": "ee7d3599",
   "metadata": {},
   "outputs": [
    {
     "name": "stdout",
     "output_type": "stream",
     "text": [
      "tihoM ramuk\n"
     ]
    }
   ],
   "source": [
    "str3=\"Mohit kumar\"\n",
    "l=str3.split()\n",
    "for index,x in enumerate(l):\n",
    "    str2=\"\"\n",
    "    for y in range(len(x),0,-1):\n",
    "        str2=str2+x[y-1]\n",
    "        l[index]=str2\n",
    "print(\" \".join(l))"
   ]
  },
  {
   "cell_type": "code",
   "execution_count": null,
   "id": "bd576663",
   "metadata": {},
   "outputs": [],
   "source": []
  }
 ],
 "metadata": {
  "kernelspec": {
   "display_name": "Python 3 (ipykernel)",
   "language": "python",
   "name": "python3"
  },
  "language_info": {
   "codemirror_mode": {
    "name": "ipython",
    "version": 3
   },
   "file_extension": ".py",
   "mimetype": "text/x-python",
   "name": "python",
   "nbconvert_exporter": "python",
   "pygments_lexer": "ipython3",
   "version": "3.8.10"
  }
 },
 "nbformat": 4,
 "nbformat_minor": 5
}
