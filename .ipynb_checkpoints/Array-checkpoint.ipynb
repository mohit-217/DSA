{
 "cells": [
  {
   "cell_type": "markdown",
   "id": "6a2fcb5d",
   "metadata": {},
   "source": [
    "### Reverse an array without using extra space"
   ]
  },
  {
   "cell_type": "code",
   "execution_count": null,
   "id": "eeb5814b",
   "metadata": {},
   "outputs": [],
   "source": [
    "list_1=[2,9,3,5,6]\n",
    "def reverse_list(list_1):\n",
    "    start=0\n",
    "    end=len(list_1)-1\n",
    "    while start<end:\n",
    "        list_1[start],list_1[end]= list_1[end],list_1[start]\n",
    "        start+=1\n",
    "        end-=1\n",
    "    print(list_1)\n",
    "\n",
    "reverse_list(list_1)      "
   ]
  },
  {
   "cell_type": "markdown",
   "id": "fffb91f1",
   "metadata": {},
   "source": [
    "# Find min max in a array witout using auxillary space"
   ]
  },
  {
   "cell_type": "code",
   "execution_count": null,
   "id": "00fe676b",
   "metadata": {},
   "outputs": [],
   "source": [
    "list_2=[2,9,7,9,6]\n",
    "def find_min_max(list_2):\n",
    "    min_1=list_2[0]\n",
    "    max_1=list_2[1]\n",
    "    if min_1>max_1:\n",
    "        max_1,min_1=list_2[0],list_2[1]\n",
    "        \n",
    "    i=2\n",
    "    while i <len(list_2):\n",
    "        ele=list_2[i]\n",
    "        if ele<min_1:\n",
    "            min_1=ele\n",
    "        elif ele>max_1:\n",
    "            max_1=ele\n",
    "        else:\n",
    "            pass\n",
    "        i+=1\n",
    "    print(f\"min:{min_1} and max:{max_1}\")\n",
    "find_min_max(list_2)       "
   ]
  },
  {
   "cell_type": "markdown",
   "id": "34552829",
   "metadata": {},
   "source": [
    "# Find Kth highest or lowest element"
   ]
  },
  {
   "cell_type": "code",
   "execution_count": null,
   "id": "07fdf9e7",
   "metadata": {},
   "outputs": [],
   "source": [
    "list_3=[2,2,9,9,7,15,6]\n",
    "def kth_smallest(list_3,k):\n",
    "    max_ele=max(list_3)\n",
    "    freq_dict={}\n",
    "    max_element\n",
    "    for x in list_3:\n",
    "        if x in freq_dict:\n",
    "            freq_dict[x]=freq_dict[x]+1\n",
    "        else:\n",
    "            freq_dict[x]=1\n",
    "    count=0\n",
    "    for y in range(0,max_ele+1):\n",
    "        if y in freq_dict:\n",
    "            count+=1\n",
    "        if count>=k:\n",
    "            break\n",
    "    return y\n",
    "k=2\n",
    "print(f\"{k}th smalles is:{kth_smallest(list_3,k)}\")"
   ]
  },
  {
   "cell_type": "markdown",
   "id": "3eb77470",
   "metadata": {},
   "source": [
    "# Dutch National Flag problem"
   ]
  },
  {
   "cell_type": "code",
   "execution_count": null,
   "id": "caaca9ed",
   "metadata": {},
   "outputs": [],
   "source": [
    "# list_4=[1,1,0,0,0,2,2,1,2]\n",
    "n=len(list_4)\n",
    "def arrange_0_1_2(a,n):\n",
    "    low=0\n",
    "    mid=0\n",
    "    high=n-1\n",
    "    while mid<=high:\n",
    "        if a[mid]==0:\n",
    "            a[low],a[mid]=a[mid],a[low]\n",
    "            low=low+1\n",
    "            mid=mid+1\n",
    "        if a[mid]==1:\n",
    "            mid=mid+1\n",
    "        if a[mid]==2:\n",
    "            a[high],a[mid]=a[mid],a[high]\n",
    "            high=high-1\n",
    "    return a\n",
    "\"\"\"\n",
    "Just update mid when element is 0\n",
    "Just update mid when element is 1\n",
    "Don't Update mid whren element is 2\n",
    "\"\"\"\n",
    "print(f\"Sorted array is:{arrange_0_1_2(list_4,n)}\")"
   ]
  },
  {
   "cell_type": "markdown",
   "id": "37584c62",
   "metadata": {},
   "source": [
    "# Move all negative element at the end of the array"
   ]
  },
  {
   "cell_type": "code",
   "execution_count": null,
   "id": "4aa0e5b5",
   "metadata": {},
   "outputs": [],
   "source": [
    "list_4 = [-1 ,-1 ,-3 , -2, 7, 5, 11, -6]                       \n",
    "\"\"\"arr[low]<0 we need to increment low\n",
    "arr[low]>0 we need to swap\n",
    "arr[high]>0 decrement counter\n",
    "arr[high]<0 we need to swap with postitive of low\n",
    "\"\"\"\n",
    "n=len(list_4)-1\n",
    "def move_negative(arr,n):\n",
    "    low=0\n",
    "    high=n\n",
    "    while low<=high:\n",
    "        while low<=high and arr[high]>0:\n",
    "            high=high-1\n",
    "        while low<=high and arr[low]<0:\n",
    "            low=low+1\n",
    "        if low<=high:\n",
    "            arr[low],arr[high]=arr[high],arr[low]\n",
    "            high=high-1\n",
    "            low=low+1       \n",
    "    print(arr)\n",
    "move_negative(list_4,n) "
   ]
  },
  {
   "cell_type": "markdown",
   "id": "d3f6a046",
   "metadata": {},
   "source": [
    "# Union of two array"
   ]
  },
  {
   "cell_type": "code",
   "execution_count": null,
   "id": "cadf477d",
   "metadata": {},
   "outputs": [],
   "source": [
    "array1=[1,2,4,2,5,6]\n",
    "array2=[3,4,5,6,8,9]"
   ]
  },
  {
   "cell_type": "code",
   "execution_count": null,
   "id": "9ac216ae",
   "metadata": {},
   "outputs": [],
   "source": [
    "set(array1+array2)"
   ]
  },
  {
   "cell_type": "markdown",
   "id": "da2b3eff",
   "metadata": {},
   "source": [
    "# Intersection of the array"
   ]
  },
  {
   "cell_type": "code",
   "execution_count": null,
   "id": "1ecf28c4",
   "metadata": {},
   "outputs": [],
   "source": [
    "array1=[1,2,4,2,5,6]\n",
    "array2=[3,4,5,6,8,9]"
   ]
  },
  {
   "cell_type": "code",
   "execution_count": null,
   "id": "30380b43",
   "metadata": {},
   "outputs": [],
   "source": [
    "set1=set(array1)"
   ]
  },
  {
   "cell_type": "code",
   "execution_count": null,
   "id": "a5acb67e",
   "metadata": {},
   "outputs": [],
   "source": [
    "intersection=[]\n",
    "for x in set1:\n",
    "    if x in array2:\n",
    "        intersection.append(x)\n",
    "print(intersection)\n",
    "        "
   ]
  },
  {
   "cell_type": "markdown",
   "id": "fc64e79e",
   "metadata": {},
   "source": [
    "# Program to cyclically rotate an array by one"
   ]
  },
  {
   "cell_type": "code",
   "execution_count": null,
   "id": "c070e1ba",
   "metadata": {},
   "outputs": [],
   "source": [
    "list_5=[1, 2, 3, 4, 5]\n",
    "n=len(list_5)-1\n",
    "def rotate_array(list_5,n):\n",
    "    last_el=list_5[-1]\n",
    "    while n>=1:\n",
    "        list_5[n]=list_5[n-1]\n",
    "        n-=1\n",
    "    list_5[0]=last_el\n",
    "    print(list_5)\n",
    "    return list_5\n",
    "list_5=rotate_array(list_5,n)"
   ]
  },
  {
   "cell_type": "markdown",
   "id": "e7f12662",
   "metadata": {},
   "source": [
    "# If we want to rotate an array by k position we can call above function k time otherwise we can use juggling algorithm"
   ]
  },
  {
   "cell_type": "markdown",
   "id": "3d17e60b",
   "metadata": {},
   "source": [
    "# largest-sum-contiguous-subarray"
   ]
  },
  {
   "cell_type": "code",
   "execution_count": null,
   "id": "fd2468a3",
   "metadata": {},
   "outputs": [],
   "source": [
    "a = [-2, -3, 4, -5, -2, 1, 5, -3]\n",
    "max_so_far=-10000\n",
    "max_ending_here=0\n",
    "i=0\n",
    "while i<len(a):\n",
    "    max_ending_here=max_ending_here+a[i]\n",
    "    if max_so_far<max_ending_here:\n",
    "        max_so_far=max_ending_here\n",
    "    if max_so_far<0:\n",
    "        ma_ending_here=0\n",
    "    i+=1\n",
    "print(max_so_far)"
   ]
  },
  {
   "cell_type": "markdown",
   "id": "0976d80d",
   "metadata": {},
   "source": [
    "# Minimize the maximum difference between the heights"
   ]
  },
  {
   "cell_type": "code",
   "execution_count": 3,
   "id": "edaef3b9",
   "metadata": {},
   "outputs": [
    {
     "name": "stdout",
     "output_type": "stream",
     "text": [
      "5\n"
     ]
    }
   ],
   "source": [
    "def find_minimum_diff(list_7,n,k):\n",
    "    sorted_list=list_7.sort()\n",
    "    max_height=list_7[n-1]\n",
    "    min_height=list_7[0]\n",
    "    ans=max_height-min_height #\n",
    "    i=1\n",
    "    while i<len(list_7):\n",
    "        if list_7[i]<k:\n",
    "            continue\n",
    "        temp_min=min(list_7[0]+k,list_7[i]-k)\n",
    "        temp_max=max(list_7[i-1]+k, list_7[n-1]-k)\n",
    "        ans=min(ans,temp_max-temp_min)\n",
    "        i+=1\n",
    "    print(ans)\n",
    "arr = [7, 4, 8, 8, 8, 9]\n",
    "find_minimum_diff(arr,6,6)"
   ]
  },
  {
   "cell_type": "code",
   "execution_count": 5,
   "id": "b46537a8",
   "metadata": {},
   "outputs": [],
   "source": [
    "arr_1 = [7, 4, 8, 8, 8, 9]"
   ]
  },
  {
   "cell_type": "code",
   "execution_count": 7,
   "id": "d0163c3b",
   "metadata": {},
   "outputs": [
    {
     "data": {
      "text/plain": [
       "7.333333333333333"
      ]
     },
     "execution_count": 7,
     "metadata": {},
     "output_type": "execute_result"
    }
   ],
   "source": [
    "avg=sum(arr_1)/len(arr_1)\n",
    "avg"
   ]
  },
  {
   "cell_type": "code",
   "execution_count": 8,
   "id": "fc220441",
   "metadata": {},
   "outputs": [],
   "source": [
    "def money_jump(arr, n):\n",
    "    if n == 0:\n",
    "        return 0\n",
    "    if arr[n - 1] == 0:\n",
    "        return -1\n",
    "    return min(money_jump(arr, n - 1) + 1, money_jump(arr, n - arr[n - 1]))"
   ]
  },
  {
   "cell_type": "code",
   "execution_count": 14,
   "id": "ae588880",
   "metadata": {},
   "outputs": [
    {
     "name": "stdout",
     "output_type": "stream",
     "text": [
      "Minimum number of jumps to reach end is 3\n"
     ]
    }
   ],
   "source": [
    "def minJumps(arr, l, h): \n",
    "\n",
    "\t# Base case: when source and \n",
    "\t# destination are same \n",
    "\tif (h == l): \n",
    "\t\treturn 0\n",
    "\n",
    "\t# when nothing is reachable \n",
    "\t# from the given source \n",
    "\tif (arr[l] == 0): \n",
    "\t\treturn float('inf') \n",
    "\n",
    "\t# Traverse through all the points \n",
    "\t# reachable from arr[l]. Recursively \n",
    "\t# get the minimum number of jumps \n",
    "\t# needed to reach arr[h] from \n",
    "\t# these reachable points. \n",
    "\tmin = float('inf') \n",
    "\tfor i in range(l + 1, h + 1): \n",
    "\t\tif (i < l + arr[l] + 1): \n",
    "\t\t\tjumps = minJumps(arr, i, h) \n",
    "\t\t\tif (jumps != float('inf') and\n",
    "\t\t\t\t\tjumps + 1 < min): \n",
    "\t\t\t\tmin = jumps + 1\n",
    "\n",
    "\treturn min\n",
    "\n",
    "\n",
    "# Driver program to test above function \n",
    "arr = [1, 3, 5, 8, 9, 2, 6, 7, 6, 8, 9] \n",
    "n = len(arr) \n",
    "print('Minimum number of jumps to reach', \n",
    "\t'end is', minJumps(arr, 0, n-1)) \n",
    "\n",
    "# This code is contributed by Soumen Ghosh \n"
   ]
  },
  {
   "cell_type": "code",
   "execution_count": 15,
   "id": "e3598c85",
   "metadata": {},
   "outputs": [
    {
     "name": "stdout",
     "output_type": "stream",
     "text": [
      "Collecting recursion-visualiser\n",
      "  Downloading recursion_visualiser-1.0.3-py3-none-any.whl (7.2 kB)\n",
      "Collecting pydot (from recursion-visualiser)\n",
      "  Downloading pydot-1.4.2-py2.py3-none-any.whl (21 kB)\n",
      "Requirement already satisfied: imageio in c:\\users\\mohit\\appdata\\local\\programs\\python\\python38\\lib\\site-packages (from recursion-visualiser) (2.22.2)\n",
      "Requirement already satisfied: numpy in c:\\users\\mohit\\appdata\\local\\programs\\python\\python38\\lib\\site-packages (from imageio->recursion-visualiser) (1.24.3)\n",
      "Requirement already satisfied: pillow>=8.3.2 in c:\\users\\mohit\\appdata\\local\\programs\\python\\python38\\lib\\site-packages (from imageio->recursion-visualiser) (9.4.0)\n",
      "Requirement already satisfied: pyparsing>=2.1.4 in c:\\users\\mohit\\appdata\\local\\programs\\python\\python38\\lib\\site-packages (from pydot->recursion-visualiser) (3.0.9)\n",
      "Installing collected packages: pydot, recursion-visualiser\n",
      "Successfully installed pydot-1.4.2 recursion-visualiser-1.0.3\n"
     ]
    },
    {
     "name": "stderr",
     "output_type": "stream",
     "text": [
      "\n",
      "[notice] A new release of pip is available: 23.3.1 -> 23.3.2\n",
      "[notice] To update, run: python.exe -m pip install --upgrade pip\n"
     ]
    }
   ],
   "source": [
    "!pip install recursion-visualiser"
   ]
  },
  {
   "cell_type": "markdown",
   "id": "8fbdcb76",
   "metadata": {},
   "source": [
    "# find duplicate in an array of N+1 Integers"
   ]
  },
  {
   "cell_type": "code",
   "execution_count": 22,
   "id": "e6522029",
   "metadata": {},
   "outputs": [
    {
     "name": "stdout",
     "output_type": "stream",
     "text": [
      "Duplicate number is:2\n"
     ]
    }
   ],
   "source": [
    "def findDuplicate(nums):\n",
    "    n=len(nums)\n",
    "    list_1=[0]*n\n",
    "    for x in nums:\n",
    "        if list_1[x]==0:\n",
    "            list_1[x]=list_1[x]+1\n",
    "        else:\n",
    "            return x\n",
    "arr=[1,3,4,2,2]\n",
    "print(f\"Duplicate number is:{findDuplicate(arr)}\")"
   ]
  },
  {
   "cell_type": "code",
   "execution_count": null,
   "id": "bb84093c",
   "metadata": {},
   "outputs": [],
   "source": []
  }
 ],
 "metadata": {
  "kernelspec": {
   "display_name": "Python 3 (ipykernel)",
   "language": "python",
   "name": "python3"
  },
  "language_info": {
   "codemirror_mode": {
    "name": "ipython",
    "version": 3
   },
   "file_extension": ".py",
   "mimetype": "text/x-python",
   "name": "python",
   "nbconvert_exporter": "python",
   "pygments_lexer": "ipython3",
   "version": "3.8.10"
  }
 },
 "nbformat": 4,
 "nbformat_minor": 5
}
